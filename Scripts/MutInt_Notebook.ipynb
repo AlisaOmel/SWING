{
 "cells": [
  {
   "cell_type": "markdown",
   "id": "7d454502-e762-46c3-bd56-9d1f4bc85834",
   "metadata": {},
   "source": [
    "# Note\n",
    "This interactive notebook contains the code for Protein-Protein interaction prediction context which was adapted from the MHC-Peptide context. Full scripts are located in the github here: [link]"
   ]
  },
  {
   "cell_type": "markdown",
   "id": "0f4c62f6-3540-4348-bc5a-9815dd23a152",
   "metadata": {},
   "source": [
    "# Imports and Data"
   ]
  },
  {
   "cell_type": "code",
   "execution_count": 2,
   "id": "48c5a15e-d203-41d1-938c-a2b7d49a3334",
   "metadata": {},
   "outputs": [
    {
     "data": {
      "text/plain": [
       "(3422, 9)"
      ]
     },
     "execution_count": 2,
     "metadata": {},
     "output_type": "execute_result"
    }
   ],
   "source": [
    "import pandas as pd # For data handling\n",
    "import numpy as np\n",
    "import os\n",
    "import random\n",
    "random.seed(42)\n",
    "import gensim\n",
    "from gensim.models.doc2vec import Doc2Vec, TaggedDocument\n",
    "import sklearn\n",
    "from sklearn import metrics\n",
    "from xgboost import XGBClassifier\n",
    "from sklearn.model_selection import train_test_split, cross_val_score\n",
    "from sklearn.metrics import roc_auc_score, auc\n",
    "import argparse\n",
    "import wandb\n",
    "import pickle\n",
    "import matplotlib.pyplot as plt\n",
    "from collections import Counter\n",
    "from tqdm import tqdm\n",
    "\n",
    "os.chdir('/ix/djishnu/Jane/ppis/finals/mats/mutations/SW_natflip')\n",
    "df = pd.read_csv('NPflip_nature_muts_tracker_shuffled.csv')\n",
    "df.shape"
   ]
  },
  {
   "cell_type": "code",
   "execution_count": 4,
   "id": "65df5ef4-2db5-4c50-85fc-2f337fe82f30",
   "metadata": {},
   "outputs": [
    {
     "data": {
      "text/html": [
       "<div>\n",
       "<style scoped>\n",
       "    .dataframe tbody tr th:only-of-type {\n",
       "        vertical-align: middle;\n",
       "    }\n",
       "\n",
       "    .dataframe tbody tr th {\n",
       "        vertical-align: top;\n",
       "    }\n",
       "\n",
       "    .dataframe thead th {\n",
       "        text-align: right;\n",
       "    }\n",
       "</style>\n",
       "<table border=\"1\" class=\"dataframe\">\n",
       "  <thead>\n",
       "    <tr style=\"text-align: right;\">\n",
       "      <th></th>\n",
       "      <th>Mutation</th>\n",
       "      <th>Y2H_score</th>\n",
       "      <th>data</th>\n",
       "      <th>Mutation UPID</th>\n",
       "      <th>Interactor UPID</th>\n",
       "      <th>old_index</th>\n",
       "      <th>Position</th>\n",
       "      <th>Mutated Seq (unless WT)</th>\n",
       "      <th>Interactor Seq</th>\n",
       "    </tr>\n",
       "  </thead>\n",
       "  <tbody>\n",
       "    <tr>\n",
       "      <th>0</th>\n",
       "      <td>S357A</td>\n",
       "      <td>0.0</td>\n",
       "      <td>nature</td>\n",
       "      <td>Q9UK11</td>\n",
       "      <td>Q9NQZ6</td>\n",
       "      <td>1433</td>\n",
       "      <td>357</td>\n",
       "      <td>MTMSKEAVTFKDVAVVFTEEELGLLDLAQRKLYRDVMLENFRNLLS...</td>\n",
       "      <td>MADEQEIMCKLESIKEIRNKTLQMEKIKARLKAEFEALESEERHLK...</td>\n",
       "    </tr>\n",
       "    <tr>\n",
       "      <th>1</th>\n",
       "      <td>M448T</td>\n",
       "      <td>0.0</td>\n",
       "      <td>NP</td>\n",
       "      <td>Q5JVL4</td>\n",
       "      <td>Q04864</td>\n",
       "      <td>559</td>\n",
       "      <td>448</td>\n",
       "      <td>MVSNPVHGLPFLPGTSFKDSTKTAFHRSQTLSYRNGYAIVRRPTVG...</td>\n",
       "      <td>MASGAYNPYIEIIEQPRQRGMRFRYKCEGRSAGSIPGEHSTDNNRT...</td>\n",
       "    </tr>\n",
       "    <tr>\n",
       "      <th>2</th>\n",
       "      <td>R433W</td>\n",
       "      <td>0.0</td>\n",
       "      <td>nature</td>\n",
       "      <td>P28799</td>\n",
       "      <td>Q6PEX3</td>\n",
       "      <td>1272</td>\n",
       "      <td>433</td>\n",
       "      <td>MWTLVSWVALTAGLVAGTRCPDGQFCPVACCLDPGGASYSCCRPLL...</td>\n",
       "      <td>MSCPNYCSGNSNSGSLRTSRHIPLTSIDLCPTSVSCGDVLYLPTSS...</td>\n",
       "    </tr>\n",
       "    <tr>\n",
       "      <th>3</th>\n",
       "      <td>R8Q</td>\n",
       "      <td>0.0</td>\n",
       "      <td>nature</td>\n",
       "      <td>Q9UBB9</td>\n",
       "      <td>Q9NV31</td>\n",
       "      <td>1615</td>\n",
       "      <td>8</td>\n",
       "      <td>MSLSHLYQDGEGRIDDDDDERENFEITDWDLQNEFNPNRQRHWQTK...</td>\n",
       "      <td>MVRKLKFHEQKLLKQVDFLNWEVTDHNLHELRVLRRYRLQRREDYT...</td>\n",
       "    </tr>\n",
       "    <tr>\n",
       "      <th>4</th>\n",
       "      <td>A9D</td>\n",
       "      <td>1.0</td>\n",
       "      <td>NP</td>\n",
       "      <td>P28799</td>\n",
       "      <td>Q8N6T3</td>\n",
       "      <td>741</td>\n",
       "      <td>9</td>\n",
       "      <td>MWTLVSWVALTAGLVAGTRCPDGQFCPVACCLDPGGASYSCCRPLL...</td>\n",
       "      <td>MASPRTRKVLKEVRVQDENNVCFECGAFNPQWVSVTYGIWICLECS...</td>\n",
       "    </tr>\n",
       "  </tbody>\n",
       "</table>\n",
       "</div>"
      ],
      "text/plain": [
       "  Mutation  Y2H_score    data Mutation UPID Interactor UPID  old_index  \\\n",
       "0    S357A        0.0  nature        Q9UK11          Q9NQZ6       1433   \n",
       "1    M448T        0.0      NP        Q5JVL4          Q04864        559   \n",
       "2    R433W        0.0  nature        P28799          Q6PEX3       1272   \n",
       "3      R8Q        0.0  nature        Q9UBB9          Q9NV31       1615   \n",
       "4      A9D        1.0      NP        P28799          Q8N6T3        741   \n",
       "\n",
       "   Position                            Mutated Seq (unless WT)  \\\n",
       "0       357  MTMSKEAVTFKDVAVVFTEEELGLLDLAQRKLYRDVMLENFRNLLS...   \n",
       "1       448  MVSNPVHGLPFLPGTSFKDSTKTAFHRSQTLSYRNGYAIVRRPTVG...   \n",
       "2       433  MWTLVSWVALTAGLVAGTRCPDGQFCPVACCLDPGGASYSCCRPLL...   \n",
       "3         8  MSLSHLYQDGEGRIDDDDDERENFEITDWDLQNEFNPNRQRHWQTK...   \n",
       "4         9  MWTLVSWVALTAGLVAGTRCPDGQFCPVACCLDPGGASYSCCRPLL...   \n",
       "\n",
       "                                      Interactor Seq  \n",
       "0  MADEQEIMCKLESIKEIRNKTLQMEKIKARLKAEFEALESEERHLK...  \n",
       "1  MASGAYNPYIEIIEQPRQRGMRFRYKCEGRSAGSIPGEHSTDNNRT...  \n",
       "2  MSCPNYCSGNSNSGSLRTSRHIPLTSIDLCPTSVSCGDVLYLPTSS...  \n",
       "3  MVRKLKFHEQKLLKQVDFLNWEVTDHNLHELRVLRRYRLQRREDYT...  \n",
       "4  MASPRTRKVLKEVRVQDENNVCFECGAFNPQWVSVTYGIWICLECS...  "
      ]
     },
     "execution_count": 4,
     "metadata": {},
     "output_type": "execute_result"
    }
   ],
   "source": [
    "df.head()"
   ]
  },
  {
   "cell_type": "markdown",
   "id": "f30999d5-4740-46b9-8ca1-80eaab5e1cf3",
   "metadata": {},
   "source": [
    "# Language Generation\n",
    "Packages needed:\n",
    "- pandas\n",
    "- numpy\n",
    "- random\n",
    "- gensim.models.doc2vec's Doc2Vec and TaggedDocument"
   ]
  },
  {
   "cell_type": "markdown",
   "id": "87c7d5a4-ff0b-481e-8d02-075570c6fbe1",
   "metadata": {},
   "source": [
    "## Delta Grantham Dict"
   ]
  },
  {
   "cell_type": "code",
   "execution_count": 6,
   "id": "ae65a95a-8e8c-4c61-b982-f005b3b7ee32",
   "metadata": {},
   "outputs": [],
   "source": [
    "AA_scores = {'A':8.1,'R':10.5,'N':11.6,'D':13.0,'C':5.5,'E':12.3,'Q':10.5,'G':9.0,'H':10.4,'I':5.2,\n",
    "            'L':4.9,'K':11.3,'M':5.7,'F':5.2,'P':8.0,'S':9.2,'T':8.6,'W':5.4,'Y':6.2,'V':5.9} # Grantham score\n",
    "AAs = list(AA_scores.keys())\n",
    "aa_score_dict = {} \n",
    "for i in range(len(AAs)): # create all pairs of AAs\n",
    "    for j in range(len(AAs)-i):\n",
    "        AA_pair = AAs[i]+AAs[j+i]\n",
    "        AA_pair_score = round(abs(AA_scores[AAs[i]]-AA_scores[AAs[j+i]])) # take rounded, absolute value of the difference of scores\n",
    "        aa_score_dict[AA_pair] = AA_pair_score\n",
    "\n",
    "# Save dictionary\n",
    "# delta_grantham_dict = aa_score_dict\n",
    "# with open('delta_grantham_dict.pickle', 'wb') as handle: \n",
    "#     pickle.dump(delta_grantham_dict, handle, protocol=pickle.HIGHEST_PROTOCOL)\n",
    "\n",
    "# Load Dictionary\n",
    "with open('delta_grantham_dict.pickle', 'rb') as handle:\n",
    "    delta_grantham_dict = pickle.load(handle)"
   ]
  },
  {
   "cell_type": "code",
   "execution_count": 7,
   "id": "a4755439-1f0c-4566-868f-c17e52bd1bcd",
   "metadata": {},
   "outputs": [],
   "source": [
    "# delta_grantham_dict"
   ]
  },
  {
   "cell_type": "markdown",
   "id": "96251e49-8eca-45ab-8794-422ac80375a3",
   "metadata": {},
   "source": [
    "## Window Encodings"
   ]
  },
  {
   "cell_type": "markdown",
   "id": "da02c8f3-cd26-4f5d-8588-44d6744a1b73",
   "metadata": {},
   "source": [
    "### README\n",
    "get_window_encodings() takes a pandas dataframe where each row represents a protein-protein interaction with an position of mutation (integers) column, mutated sequence column (string), and interactor sequence column (string). It also takes a window_k parameter (integer) which determines the number of amino acids of each side of the mutation to include in the mutation window. The scoring method is input as a dictionary with interacting amino acids (str) as keys and the absolute value of the rounded difference of the scores (Ex. 'AR':2). The padding score is also a parameter (integer) and should be based on the range of score differences. \n",
    "\n",
    "The function returns a list of score encodings strings that each represent a PPI. The ends of the encodings include padding from the sliding window process. These encodings will be broken into k-mers for the embedding model."
   ]
  },
  {
   "cell_type": "code",
   "execution_count": 16,
   "id": "3b3af48d-e2ac-4316-a948-7edccec41096",
   "metadata": {},
   "outputs": [],
   "source": [
    "def get_window_encodings(df, window_k=3, pos_colname='Position', mutseq_colname='Mutated Seq (unless WT)', intseq_colname='Interactor Seq', aa_score_dict=aa_score_dict, padding_score=9): # Takes df (mut/int sequences and mutation position) and window_k (# AA's on each side of the mutation position)\n",
    "    total_encodings = [] # Master list of encodings\n",
    "    for i in tqdm(df.index): # Iterate through protein pairs\n",
    "        pos = df[pos_colname].iloc[i]-1 # find mutation position for window\n",
    "        mut_window = df[mutseq_colname].iloc[i][pos-window_k:pos+window_k+1] # Create sliding window\n",
    "        interactor = df[intseq_colname].iloc[i] # Get interactor sequence\n",
    "        PPI_encoding = '' # For each PPI\n",
    "        its = 0 # Tracks sliding window position\n",
    "        for j in range(len(interactor)): # For the entire length of the interactor\n",
    "            window_scores = '' # Saves the scores between window-interactor at the 'its' position\n",
    "            for k in range(len(mut_window)): # At each positon of the interactor ('its'), align mutant window and find the score differences\n",
    "                try: # If 'its' is at the end of the interactor, the window is hanging off end (padding)\n",
    "                    pair = mut_window[k]+interactor[k+its] \n",
    "                    try: # No directionality, A:B = B:A\n",
    "                        score = aa_score_dict[pair]\n",
    "                    except: # No directionality, flip pair if not in dictionary\n",
    "                        pair = pair[::-1] \n",
    "                        score = aa_score_dict[pair]\n",
    "                except: # If not a pair, its padding (end of interactor)\n",
    "                    pair = None\n",
    "                    score = padding_score # Padding score is 9\n",
    "                window_scores = window_scores + str(score) # Add score to running string\n",
    "            its +=1 # Slide down a position on the interactor\n",
    "            PPI_encoding = PPI_encoding + str(window_scores) # Add to final string for interaction\n",
    "        total_encodings.append(PPI_encoding) # Add to list for all interactions\n",
    "    return total_encodings # List of encodings for each PPI"
   ]
  },
  {
   "cell_type": "code",
   "execution_count": 17,
   "id": "c22855f8-d39c-474f-8199-b7737884fdbc",
   "metadata": {},
   "outputs": [
    {
     "name": "stderr",
     "output_type": "stream",
     "text": [
      "100%|██████████| 3422/3422 [00:06<00:00, 533.32it/s]\n"
     ]
    }
   ],
   "source": [
    "window_encodings = get_window_encodings(df,window_k=3, pos_colname='Position', mutseq_colname='Mutated Seq (unless WT)', intseq_colname='Interactor Seq', aa_score_dict=aa_score_dict, padding_score=9)\n",
    "# window_encodings[0] # last SW 2999999 (2*window_k+1)"
   ]
  },
  {
   "cell_type": "markdown",
   "id": "c1c5045a-1b10-4a51-94db-7641cfbb604b",
   "metadata": {},
   "source": [
    "## K-Mers"
   ]
  },
  {
   "cell_type": "markdown",
   "id": "e5638a0f-6bcf-4212-a6cc-60d84b343e5d",
   "metadata": {},
   "source": [
    "### README\n",
    "get_kmers_str() takes the encoding scores from get_window_encodings(), a k parameter that represents the k-mer size (integer), a shuffle option (True/False), percent_vocab ((0,1], float) which randomly selects a percentage of the k-mers to return if not 1, and the same padding_score (integer) from get_window_encodings(). \n",
    "\n",
    "\n",
    "This function returns a list of lists of overlapping k-mers of specified size k, removing k-mers of only padding. Each list of k-mers are specific to each of the PPIs."
   ]
  },
  {
   "cell_type": "code",
   "execution_count": 18,
   "id": "b549c041-558d-4b0d-89ad-df316919e1a3",
   "metadata": {},
   "outputs": [],
   "source": [
    "def get_kmers_str(encoding_scores, k=3, shuffle=False, percent_vocab=1, padding_score=9):\n",
    "    padding = {str(padding_score)} \n",
    "    for i in range(k): # Makes a set of padding scores that will be removed from the final k-mers\n",
    "        padding.add(str(9)*(i+1)) # {'9','99','999'...}\n",
    "    kmers = [] # Master list of k-mers\n",
    "    for ppi_score in tqdm(encoding_scores): # For each PPI encoding\n",
    "        int_kmers = [] # K-mers specific to PPI\n",
    "        for j in range(len(ppi_score)): # Iterate over the PPI encoding\n",
    "            kmer = ppi_score[j:j+k] # Slice k-mers and sliding over\n",
    "            if kmer in padding: # If K-mer is just padding, don't add it\n",
    "                pass\n",
    "            else:\n",
    "                int_kmers.append(kmer) # Keep non-padding k-mers \n",
    "        if shuffle: # Shuffle if specified\n",
    "            random.shuffle(int_kmers)\n",
    "        if percent_vocab != 1: # Remove percent vocab is specified\n",
    "            int_kmers=random.sample(int_kmers,int(len(int_kmers)*percent_vocab)) # Randomly selects %  \n",
    "        kmers.append(int_kmers) # Append k-mers to master list\n",
    "    return kmers "
   ]
  },
  {
   "cell_type": "code",
   "execution_count": 19,
   "id": "9b564ba9-f4d8-4d86-9135-3d75e9cc0607",
   "metadata": {},
   "outputs": [
    {
     "name": "stderr",
     "output_type": "stream",
     "text": [
      "100%|██████████| 3422/3422 [00:02<00:00, 1364.73it/s]\n"
     ]
    },
    {
     "data": {
      "text/plain": [
       "3422"
      ]
     },
     "execution_count": 19,
     "metadata": {},
     "output_type": "execute_result"
    }
   ],
   "source": [
    "kmers = get_kmers_str(window_encodings, k=3, shuffle=False, percent_vocab=1,  padding_score=9)\n",
    "len(kmers) # Should be number of interactions"
   ]
  },
  {
   "cell_type": "markdown",
   "id": "61743437-29e2-42a7-bf28-5680689d6d55",
   "metadata": {},
   "source": [
    "## Get Corpus"
   ]
  },
  {
   "cell_type": "markdown",
   "id": "fc18df22-a252-4277-9509-661236ff9444",
   "metadata": {},
   "source": [
    "### README\n",
    "get_corpus() takes in the k-mers created in get_kmers_str(). It outputs a Doc2Vec TaggedDocuments entities for each PPI to be used in a Doc2Vec model."
   ]
  },
  {
   "cell_type": "code",
   "execution_count": 20,
   "id": "8d0decac-13c3-4887-8947-f2bafbe2e980",
   "metadata": {},
   "outputs": [],
   "source": [
    "def get_corpus(matrix, tokens_only=False):\n",
    "    for i in range(len(matrix)): # for each PPI\n",
    "        yield gensim.models.doc2vec.TaggedDocument(matrix[i],[i]) # Create a tagged document"
   ]
  },
  {
   "cell_type": "code",
   "execution_count": 22,
   "id": "7335f8e2-a504-4f59-9c8a-6c03f7fbac4a",
   "metadata": {},
   "outputs": [],
   "source": [
    "train_corpus = list(get_corpus(kmers))\n",
    "# train_corpus[0]"
   ]
  },
  {
   "cell_type": "markdown",
   "id": "6dff04d7-84b2-4884-9bae-17bd89d6f96c",
   "metadata": {},
   "source": [
    "# Embedding Generation\n",
    "Packages needed:\n",
    "- gensim.models.doc2vec's Doc2Vec (v 4.2.0)"
   ]
  },
  {
   "cell_type": "code",
   "execution_count": 23,
   "id": "59d83c37-fb35-4c69-af19-dc148778903a",
   "metadata": {},
   "outputs": [
    {
     "name": "stdout",
     "output_type": "stream",
     "text": [
      "d2v training done\n"
     ]
    }
   ],
   "source": [
    "# Tuned Parameters from WandB\n",
    "# D2V Training can take a long time, outputs can be loaded in following block\n",
    "dim = 128\n",
    "alpha = 0.0223\n",
    "epochs = 200 \n",
    "d2v_model = Doc2Vec(vector_size=dim, min_count=1, alpha=alpha)\n",
    "# d2v_model.build_vocab(train_corpus)\n",
    "# d2v_model.train(train_corpus, total_examples=d2v_model.corpus_count, epochs=epochs) \n",
    "print('d2v training done')"
   ]
  },
  {
   "cell_type": "code",
   "execution_count": 24,
   "id": "403328a9-d982-410e-9b52-8a40d46e741a",
   "metadata": {},
   "outputs": [],
   "source": [
    "# D2V output - nat and np vecs are trained in D2V together, \n",
    "# but embeddings were seperated for training purposes\n",
    "with open('nat_vecs_seqsimparams.pkl', 'rb') as nat_v:\n",
    "    nat_vecs = pickle.load(nat_v) # deserialize using load()\n",
    "nat_labs = np.load('nat_labs_seqsimparams.npy')\n",
    "\n",
    "with open('np_vecs_seqsimparams.pkl', 'rb') as np_v:\n",
    "    np_vecs = pickle.load(np_v) # deserialize using load()\n",
    "np_labs = np.load('np_labs_seqsimparams.npy')"
   ]
  },
  {
   "cell_type": "markdown",
   "id": "7be43ab3-eaf5-4b15-bacf-339455d5ba77",
   "metadata": {},
   "source": [
    "# Classification\n",
    "Packages needed:\n",
    "- xgboost's XGBClassifier (v 1.6.1)"
   ]
  },
  {
   "cell_type": "markdown",
   "id": "294df2ad-13a5-4be9-8d91-f6d8671feede",
   "metadata": {},
   "source": [
    "### Initializing XGBoost"
   ]
  },
  {
   "cell_type": "code",
   "execution_count": 25,
   "id": "edc9e379-c939-48ee-8d36-d8e6ff8a06a8",
   "metadata": {},
   "outputs": [],
   "source": [
    "# Tuned Parameters from WandB\n",
    "n_estimators = 225\n",
    "max_depth = 6\n",
    "learning_rate = 0.186\n",
    "xgb_cl = XGBClassifier(n_estimators=n_estimators, max_depth=max_depth, learning_rate=learning_rate)"
   ]
  },
  {
   "cell_type": "markdown",
   "id": "07c781d3-e841-4e67-9832-9ecfb56319e8",
   "metadata": {},
   "source": [
    "### Create Example Dataset"
   ]
  },
  {
   "cell_type": "code",
   "execution_count": 26,
   "id": "beedfcda-505a-476f-a665-66083d23ea39",
   "metadata": {},
   "outputs": [
    {
     "name": "stdout",
     "output_type": "stream",
     "text": [
      "y test: Counter({0.0: 506, 1.0: 179})\n"
     ]
    }
   ],
   "source": [
    "# Shuffle dataset to eliminate batch effect\n",
    "features =  np.array(nat_vecs + np_vecs)\n",
    "y_true = np.array(list(nat_labs)+list(np_labs))\n",
    "\n",
    "indices = np.arange(features.shape[0]) \n",
    "np.random.shuffle(indices)\n",
    "\n",
    "features = features[indices]\n",
    "y_true = y_true[indices]\n",
    "\n",
    "X_train, X_test, y_train, y_test = train_test_split(features, y_true, test_size=0.2, random_state=42)\n",
    "print('y test:',Counter(y_test))"
   ]
  },
  {
   "cell_type": "markdown",
   "id": "e5dcbcf5-b669-4e02-af9d-c74142722191",
   "metadata": {},
   "source": [
    "### Train and Evaluate XGBoost"
   ]
  },
  {
   "cell_type": "code",
   "execution_count": 27,
   "id": "7a63d5f1-bae9-4e45-b253-c8d848f0a6cd",
   "metadata": {},
   "outputs": [
    {
     "data": {
      "text/html": [
       "<style>#sk-container-id-1 {color: black;background-color: white;}#sk-container-id-1 pre{padding: 0;}#sk-container-id-1 div.sk-toggleable {background-color: white;}#sk-container-id-1 label.sk-toggleable__label {cursor: pointer;display: block;width: 100%;margin-bottom: 0;padding: 0.3em;box-sizing: border-box;text-align: center;}#sk-container-id-1 label.sk-toggleable__label-arrow:before {content: \"▸\";float: left;margin-right: 0.25em;color: #696969;}#sk-container-id-1 label.sk-toggleable__label-arrow:hover:before {color: black;}#sk-container-id-1 div.sk-estimator:hover label.sk-toggleable__label-arrow:before {color: black;}#sk-container-id-1 div.sk-toggleable__content {max-height: 0;max-width: 0;overflow: hidden;text-align: left;background-color: #f0f8ff;}#sk-container-id-1 div.sk-toggleable__content pre {margin: 0.2em;color: black;border-radius: 0.25em;background-color: #f0f8ff;}#sk-container-id-1 input.sk-toggleable__control:checked~div.sk-toggleable__content {max-height: 200px;max-width: 100%;overflow: auto;}#sk-container-id-1 input.sk-toggleable__control:checked~label.sk-toggleable__label-arrow:before {content: \"▾\";}#sk-container-id-1 div.sk-estimator input.sk-toggleable__control:checked~label.sk-toggleable__label {background-color: #d4ebff;}#sk-container-id-1 div.sk-label input.sk-toggleable__control:checked~label.sk-toggleable__label {background-color: #d4ebff;}#sk-container-id-1 input.sk-hidden--visually {border: 0;clip: rect(1px 1px 1px 1px);clip: rect(1px, 1px, 1px, 1px);height: 1px;margin: -1px;overflow: hidden;padding: 0;position: absolute;width: 1px;}#sk-container-id-1 div.sk-estimator {font-family: monospace;background-color: #f0f8ff;border: 1px dotted black;border-radius: 0.25em;box-sizing: border-box;margin-bottom: 0.5em;}#sk-container-id-1 div.sk-estimator:hover {background-color: #d4ebff;}#sk-container-id-1 div.sk-parallel-item::after {content: \"\";width: 100%;border-bottom: 1px solid gray;flex-grow: 1;}#sk-container-id-1 div.sk-label:hover label.sk-toggleable__label {background-color: #d4ebff;}#sk-container-id-1 div.sk-serial::before {content: \"\";position: absolute;border-left: 1px solid gray;box-sizing: border-box;top: 0;bottom: 0;left: 50%;z-index: 0;}#sk-container-id-1 div.sk-serial {display: flex;flex-direction: column;align-items: center;background-color: white;padding-right: 0.2em;padding-left: 0.2em;position: relative;}#sk-container-id-1 div.sk-item {position: relative;z-index: 1;}#sk-container-id-1 div.sk-parallel {display: flex;align-items: stretch;justify-content: center;background-color: white;position: relative;}#sk-container-id-1 div.sk-item::before, #sk-container-id-1 div.sk-parallel-item::before {content: \"\";position: absolute;border-left: 1px solid gray;box-sizing: border-box;top: 0;bottom: 0;left: 50%;z-index: -1;}#sk-container-id-1 div.sk-parallel-item {display: flex;flex-direction: column;z-index: 1;position: relative;background-color: white;}#sk-container-id-1 div.sk-parallel-item:first-child::after {align-self: flex-end;width: 50%;}#sk-container-id-1 div.sk-parallel-item:last-child::after {align-self: flex-start;width: 50%;}#sk-container-id-1 div.sk-parallel-item:only-child::after {width: 0;}#sk-container-id-1 div.sk-dashed-wrapped {border: 1px dashed gray;margin: 0 0.4em 0.5em 0.4em;box-sizing: border-box;padding-bottom: 0.4em;background-color: white;}#sk-container-id-1 div.sk-label label {font-family: monospace;font-weight: bold;display: inline-block;line-height: 1.2em;}#sk-container-id-1 div.sk-label-container {text-align: center;}#sk-container-id-1 div.sk-container {/* jupyter's `normalize.less` sets `[hidden] { display: none; }` but bootstrap.min.css set `[hidden] { display: none !important; }` so we also need the `!important` here to be able to override the default hidden behavior on the sphinx rendered scikit-learn.org. See: https://github.com/scikit-learn/scikit-learn/issues/21755 */display: inline-block !important;position: relative;}#sk-container-id-1 div.sk-text-repr-fallback {display: none;}</style><div id=\"sk-container-id-1\" class=\"sk-top-container\"><div class=\"sk-text-repr-fallback\"><pre>XGBClassifier(base_score=0.5, booster=&#x27;gbtree&#x27;, callbacks=None,\n",
       "              colsample_bylevel=1, colsample_bynode=1, colsample_bytree=1,\n",
       "              early_stopping_rounds=None, enable_categorical=False,\n",
       "              eval_metric=None, gamma=0, gpu_id=-1, grow_policy=&#x27;depthwise&#x27;,\n",
       "              importance_type=None, interaction_constraints=&#x27;&#x27;,\n",
       "              learning_rate=0.186, max_bin=256, max_cat_to_onehot=4,\n",
       "              max_delta_step=0, max_depth=6, max_leaves=0, min_child_weight=1,\n",
       "              missing=nan, monotone_constraints=&#x27;()&#x27;, n_estimators=225,\n",
       "              n_jobs=0, num_parallel_tree=1, predictor=&#x27;auto&#x27;, random_state=0,\n",
       "              reg_alpha=0, reg_lambda=1, ...)</pre><b>In a Jupyter environment, please rerun this cell to show the HTML representation or trust the notebook. <br />On GitHub, the HTML representation is unable to render, please try loading this page with nbviewer.org.</b></div><div class=\"sk-container\" hidden><div class=\"sk-item\"><div class=\"sk-estimator sk-toggleable\"><input class=\"sk-toggleable__control sk-hidden--visually\" id=\"sk-estimator-id-1\" type=\"checkbox\" checked><label for=\"sk-estimator-id-1\" class=\"sk-toggleable__label sk-toggleable__label-arrow\">XGBClassifier</label><div class=\"sk-toggleable__content\"><pre>XGBClassifier(base_score=0.5, booster=&#x27;gbtree&#x27;, callbacks=None,\n",
       "              colsample_bylevel=1, colsample_bynode=1, colsample_bytree=1,\n",
       "              early_stopping_rounds=None, enable_categorical=False,\n",
       "              eval_metric=None, gamma=0, gpu_id=-1, grow_policy=&#x27;depthwise&#x27;,\n",
       "              importance_type=None, interaction_constraints=&#x27;&#x27;,\n",
       "              learning_rate=0.186, max_bin=256, max_cat_to_onehot=4,\n",
       "              max_delta_step=0, max_depth=6, max_leaves=0, min_child_weight=1,\n",
       "              missing=nan, monotone_constraints=&#x27;()&#x27;, n_estimators=225,\n",
       "              n_jobs=0, num_parallel_tree=1, predictor=&#x27;auto&#x27;, random_state=0,\n",
       "              reg_alpha=0, reg_lambda=1, ...)</pre></div></div></div></div></div>"
      ],
      "text/plain": [
       "XGBClassifier(base_score=0.5, booster='gbtree', callbacks=None,\n",
       "              colsample_bylevel=1, colsample_bynode=1, colsample_bytree=1,\n",
       "              early_stopping_rounds=None, enable_categorical=False,\n",
       "              eval_metric=None, gamma=0, gpu_id=-1, grow_policy='depthwise',\n",
       "              importance_type=None, interaction_constraints='',\n",
       "              learning_rate=0.186, max_bin=256, max_cat_to_onehot=4,\n",
       "              max_delta_step=0, max_depth=6, max_leaves=0, min_child_weight=1,\n",
       "              missing=nan, monotone_constraints='()', n_estimators=225,\n",
       "              n_jobs=0, num_parallel_tree=1, predictor='auto', random_state=0,\n",
       "              reg_alpha=0, reg_lambda=1, ...)"
      ]
     },
     "execution_count": 27,
     "metadata": {},
     "output_type": "execute_result"
    }
   ],
   "source": [
    "# Train\n",
    "xgb_cl.fit(X_train,y_train)"
   ]
  },
  {
   "cell_type": "code",
   "execution_count": 28,
   "id": "9c47fd8a-192a-4d37-b506-bd4901279ab1",
   "metadata": {},
   "outputs": [
    {
     "name": "stdout",
     "output_type": "stream",
     "text": [
      "y test permuted: Counter({0: 504, 1: 181})\n",
      "AUC Score: 0.8495373948373706\n",
      "F1 Score: 0.5663082437275986\n",
      "Precision: 0.79\n",
      "Recall: 0.441340782122905\n",
      "Perm Y AUC Score: 0.49932035429273\n"
     ]
    }
   ],
   "source": [
    "# Evaluate\n",
    "# y_test_permuted = np.random.binomial(n=1, p=0.5, size=[len(y_test)]) # random ys\n",
    "np.random.seed(42)\n",
    "y_test_permuted = np.random.binomial(n=1, p=(Counter(y_test)[1.0]/len(y_test)), size=[len(y_test)]) # random ys\n",
    "print('y test permuted:',Counter(y_test_permuted))\n",
    "\n",
    "test_pred = xgb_cl.predict(X_test)\n",
    "pred_proba = xgb_cl.predict_proba(X_test)[:,1]\n",
    "fpr, tpr, _ = metrics.roc_curve(y_test, pred_proba)\n",
    "\n",
    "pred_proba_permuted = xgb_cl.predict_proba(X_test)[:,1]\n",
    "fpr_perm, tpr_perm, _ = metrics.roc_curve(y_test_permuted, pred_proba_permuted)\n",
    "\n",
    "auc_score = metrics.roc_auc_score(y_test,pred_proba)\n",
    "print('AUC Score:', auc_score)\n",
    "f1_score =  metrics.f1_score(y_test,test_pred)\n",
    "print('F1 Score:', f1_score)\n",
    "precision = metrics.precision_score(y_test,test_pred)\n",
    "print('Precision:', precision)\n",
    "recall = metrics.recall_score(y_test,test_pred)\n",
    "print('Recall:', recall)\n",
    "\n",
    "auc_score_perm = metrics.roc_auc_score(y_test_permuted, pred_proba_permuted)\n",
    "print('Perm Y AUC Score:', auc_score_perm)"
   ]
  },
  {
   "cell_type": "markdown",
   "id": "63cb7988-5c2d-4980-978a-4dcb9f6d50f6",
   "metadata": {},
   "source": [
    "### Plot AUC Curve"
   ]
  },
  {
   "cell_type": "code",
   "execution_count": 29,
   "id": "cd5e77d7-996f-4539-8fff-9a42a40e30b6",
   "metadata": {},
   "outputs": [
    {
     "data": {
      "image/png": "[encoded data removed]",
      "text/plain": [
       "<Figure size 1080x720 with 1 Axes>"
      ]
     },
     "metadata": {
      "needs_background": "light"
     },
     "output_type": "display_data"
    }
   ],
   "source": [
    "fig = plt.figure(figsize =(15, 10))\n",
    "\n",
    "plt.plot(fpr, tpr, color='#069AF3', label='Validation AUC Curve (AUC = %0.2f)' % (auc_score), linewidth = 4, dashes=[8, 4, 2, 4, 2, 4])\n",
    "plt.plot(fpr_perm, tpr_perm, color='tomato', label='Permuted Y AUC Curve (AUC = %0.2f)' % (auc_score_perm), linewidth = 4, dashes=[8, 4, 2, 4, 2, 4])\n",
    "plt.plot([0, 1], [0, 1], linestyle=':', color='gray', linewidth=4, label='Random Classifier')\n",
    "plt.plot([0, 0, 1], [0, 1, 1], linestyle=(5, (10, 3)), color='green', linewidth = 4, label='Perfect Classifier')\n",
    "\n",
    "plt.xticks(fontsize=20)\n",
    "plt.yticks(fontsize=20)\n",
    "plt.xlim([-0.05, 1.05])\n",
    "plt.ylim([-0.05, 1.05])\n",
    "\n",
    "plt.title('Validation AUC Example', fontweight='bold', fontsize=28)\n",
    "plt.xlabel('False positive rate', fontweight='bold', fontsize=24)\n",
    "plt.ylabel('True positive rate', fontweight='bold', fontsize=24)\n",
    "plt.legend(loc=\"lower right\", prop={'size': 16, 'weight':'bold'}, handlelength=5)\n",
    "plt.show()"
   ]
  },
  {
   "cell_type": "markdown",
   "id": "765d084e-befe-49af-9704-9a96be17cbf6",
   "metadata": {},
   "source": [
    "### Nested Cross Validation"
   ]
  },
  {
   "cell_type": "code",
   "execution_count": 31,
   "id": "4032f797-2b9b-45be-9e0b-bfbbba5355f4",
   "metadata": {},
   "outputs": [
    {
     "name": "stderr",
     "output_type": "stream",
     "text": [
      " 10%|█         | 1/10 [01:52<16:55, 112.89s/it]"
     ]
    },
    {
     "name": "stdout",
     "output_type": "stream",
     "text": [
      "Outer Loop #0 Done\n"
     ]
    },
    {
     "name": "stderr",
     "output_type": "stream",
     "text": [
      " 20%|██        | 2/10 [03:46<15:05, 113.20s/it]"
     ]
    },
    {
     "name": "stdout",
     "output_type": "stream",
     "text": [
      "Outer Loop #1 Done\n"
     ]
    },
    {
     "name": "stderr",
     "output_type": "stream",
     "text": [
      " 30%|███       | 3/10 [05:38<13:10, 112.92s/it]"
     ]
    },
    {
     "name": "stdout",
     "output_type": "stream",
     "text": [
      "Outer Loop #2 Done\n"
     ]
    },
    {
     "name": "stderr",
     "output_type": "stream",
     "text": [
      " 40%|████      | 4/10 [07:31<11:17, 112.87s/it]"
     ]
    },
    {
     "name": "stdout",
     "output_type": "stream",
     "text": [
      "Outer Loop #3 Done\n"
     ]
    },
    {
     "name": "stderr",
     "output_type": "stream",
     "text": [
      " 50%|█████     | 5/10 [09:24<09:24, 112.99s/it]"
     ]
    },
    {
     "name": "stdout",
     "output_type": "stream",
     "text": [
      "Outer Loop #4 Done\n"
     ]
    },
    {
     "name": "stderr",
     "output_type": "stream",
     "text": [
      " 60%|██████    | 6/10 [11:17<07:31, 112.77s/it]"
     ]
    },
    {
     "name": "stdout",
     "output_type": "stream",
     "text": [
      "Outer Loop #5 Done\n"
     ]
    },
    {
     "name": "stderr",
     "output_type": "stream",
     "text": [
      " 70%|███████   | 7/10 [13:09<05:38, 112.74s/it]"
     ]
    },
    {
     "name": "stdout",
     "output_type": "stream",
     "text": [
      "Outer Loop #6 Done\n"
     ]
    },
    {
     "name": "stderr",
     "output_type": "stream",
     "text": [
      " 80%|████████  | 8/10 [15:01<03:44, 112.48s/it]"
     ]
    },
    {
     "name": "stdout",
     "output_type": "stream",
     "text": [
      "Outer Loop #7 Done\n"
     ]
    },
    {
     "name": "stderr",
     "output_type": "stream",
     "text": [
      " 90%|█████████ | 9/10 [16:53<01:52, 112.31s/it]"
     ]
    },
    {
     "name": "stdout",
     "output_type": "stream",
     "text": [
      "Outer Loop #8 Done\n"
     ]
    },
    {
     "name": "stderr",
     "output_type": "stream",
     "text": [
      "100%|██████████| 10/10 [18:45<00:00, 112.57s/it]"
     ]
    },
    {
     "name": "stdout",
     "output_type": "stream",
     "text": [
      "Outer Loop #9 Done\n"
     ]
    },
    {
     "name": "stderr",
     "output_type": "stream",
     "text": [
      "\n"
     ]
    }
   ],
   "source": [
    "# NCV can take ~20 min, can use the pre-saved DF in next cell!\n",
    "df = pd.DataFrame(columns=['AUCs','PermYAUCs','F1s','Precisions','Recalls','TPRs','FPRs','FPRperms','TPRperms'])\n",
    "\n",
    "# number of iterations\n",
    "outer_loop = 10\n",
    "inner_loop = 10\n",
    "\n",
    "all_tts_aucs = []\n",
    "all_tts_permy_aucs = []\n",
    "all_tts_f1s = []\n",
    "all_tts_percisions =[]\n",
    "all_tts_recalls = []\n",
    "all_tts_fprs = []\n",
    "all_tts_tprs = []\n",
    "all_tts_permy_fprs = []\n",
    "all_tts_permy_tprs = []\n",
    "\n",
    "#  make unshuffled dataset\n",
    "features =  np.array(nat_vecs + np_vecs)\n",
    "y_true = np.array(list(nat_labs)+list(np_labs))\n",
    "\n",
    "for o_its in tqdm(range(outer_loop)): # shuffle dataset \n",
    "    # shuffle data and change the seed each time\n",
    "    np.random.seed(o_its)\n",
    "    \n",
    "    # create new shuffled indicies\n",
    "    indices = np.arange(features.shape[0]) \n",
    "    np.random.shuffle(indices)\n",
    "    features = features[indices]\n",
    "    y_true = y_true[indices]\n",
    "\n",
    "    # save the scores from AUCs\n",
    "    tts_aucs = []   \n",
    "    tts_permy_aucs = []\n",
    "    tts_f1s = []\n",
    "    tts_percisions =[]\n",
    "    tts_recalls = []\n",
    "    tts_fprs = []\n",
    "    tts_tprs = []\n",
    "    tts_permy_fprs = []\n",
    "    tts_permy_tprs = []\n",
    "    \n",
    "    for i_its in range(inner_loop): # shuffle each tts\n",
    "        # TTS + perm y set\n",
    "        X_train, X_test, y_train, y_test = train_test_split(features, y_true, test_size=0.2, random_state=i_its) # change seed\n",
    "        y_test_perm = np.random.binomial(n=1, p=(Counter(y_test)[1.0]/len(y_test)), size=[len(y_test)]) # random ys\n",
    "\n",
    "        # train XGB\n",
    "        xgb_cl = XGBClassifier(n_estimators=n_estimators,max_depth=max_depth,learning_rate=learning_rate)\n",
    "        xgb_cl.fit(X_train,y_train)\n",
    "\n",
    "        # test XGB + permy\n",
    "        test_pred = xgb_cl.predict(X_test)\n",
    "        pred_proba = xgb_cl.predict_proba(X_test)[:,1]\n",
    "        fpr, tpr, _ = metrics.roc_curve(y_test, pred_proba)\n",
    "        tts_fprs.append(fpr)\n",
    "        tts_tprs.append(tpr)\n",
    "\n",
    "        test_pred_perm = xgb_cl.predict(X_test)\n",
    "        pred_proba_perm = xgb_cl.predict_proba(X_test)[:,1]\n",
    "        fpr_perm, tpr_perm, _ = metrics.roc_curve(y_test_perm, pred_proba_perm)\n",
    "        tts_permy_fprs.append(fpr_perm)\n",
    "        tts_permy_tprs.append(tpr_perm)\n",
    "\n",
    "        auc_score = metrics.roc_auc_score(y_test,pred_proba)\n",
    "        auc_score_perm = metrics.roc_auc_score(y_test_perm,pred_proba_perm)\n",
    "        f1_score =  metrics.f1_score(y_test,test_pred)\n",
    "        precision = metrics.precision_score(y_test,test_pred)\n",
    "        recall = metrics.recall_score(y_test,test_pred)\n",
    "        \n",
    "        tts_aucs.append(auc_score)\n",
    "        tts_permy_aucs.append(auc_score_perm)\n",
    "        tts_f1s.append(f1_score)\n",
    "        tts_percisions.append(precision)\n",
    "        tts_recalls.append(recall)\n",
    "        \n",
    "    # Define a common set of FPR values for plotting\n",
    "    common_fpr = np.linspace(0, 1, 100)\n",
    "    common_fpr_perm = np.linspace(0, 1, 100)\n",
    "    interp_tpr = []\n",
    "    interp_tpr_perm = []\n",
    "    \n",
    "    # Interpolate TPR values for each fold\n",
    "    for i in range(len(tts_fprs)):\n",
    "        interp_tpr.append(np.interp(common_fpr, tts_fprs[i], tts_tprs[i]))\n",
    "        interp_tpr_perm.append(np.interp(common_fpr_perm, tts_permy_fprs[i], tts_permy_tprs[i]))\n",
    "    # Calculate the mean of the interpolated TPR values\n",
    "    mean_tpr = np.mean(interp_tpr, axis=0)\n",
    "    mean_tpr_perm = np.mean(interp_tpr_perm, axis=0)\n",
    "\n",
    "    all_tts_aucs.append(np.mean(tts_aucs))\n",
    "    all_tts_permy_aucs.append(np.mean(tts_permy_aucs))\n",
    "    all_tts_f1s.append(np.mean(tts_f1s))\n",
    "    all_tts_percisions.append(np.mean(tts_percisions))\n",
    "    all_tts_recalls.append(np.mean(tts_recalls))\n",
    "    all_tts_fprs.append(common_fpr)\n",
    "    all_tts_tprs.append(mean_tpr)\n",
    "    all_tts_permy_fprs.append(common_fpr_perm)\n",
    "    all_tts_permy_tprs.append(mean_tpr_perm)\n",
    "    print('Outer Loop #' + str(o_its)+ ' Done')\n",
    "\n",
    "    list_row = [all_tts_aucs, all_tts_permy_aucs, all_tts_f1s, all_tts_percisions, \n",
    "                all_tts_recalls, all_tts_fprs, all_tts_tprs, all_tts_permy_fprs, all_tts_permy_tprs]\n",
    "    df.loc[len(df)] = list_row\n",
    "\n",
    "# save data\n",
    "df['AUCs'] = all_tts_aucs\n",
    "df['PermYAUCs'] = all_tts_permy_aucs\n",
    "df['F1s'] = all_tts_f1s\n",
    "df['Precisions'] = all_tts_percisions\n",
    "df['Recalls'] = all_tts_recalls\n",
    "df['FPRs'] = all_tts_fprs\n",
    "df['TPRs'] = all_tts_tprs\n",
    "df['FPRperms'] = all_tts_permy_fprs\n",
    "df['TPRperms'] = all_tts_permy_tprs\n",
    "df.to_pickle('nested_validation_example.pkl')"
   ]
  },
  {
   "cell_type": "code",
   "execution_count": 2,
   "id": "473bda5f-a100-47cb-9807-1e9ab3c191a0",
   "metadata": {
    "scrolled": true
   },
   "outputs": [
    {
     "data": {
      "image/png": "[encoded data removed]",
      "text/plain": [
       "<Figure size 1080x720 with 1 Axes>"
      ]
     },
     "metadata": {
      "needs_background": "light"
     },
     "output_type": "display_data"
    }
   ],
   "source": [
    "# Load pickle from disk\n",
    "df = pd.read_pickle('nested_validation_example.pkl')\n",
    "\n",
    "val_fpr = df.FPRs.values\n",
    "val_tpr = df.TPRs.values\n",
    "fpr_perm = df.FPRperms.values\n",
    "tpr_perm = df.TPRperms.values\n",
    "mean_auc = np.mean(df.AUCs.values)\n",
    "std_auc = np.std(df.AUCs.values)\n",
    "mean_auc_perm = np.mean(df.PermYAUCs.values)\n",
    "std_auc_perm = np.std(df.PermYAUCs.values)\n",
    "\n",
    "# Define a common set of FPR values\n",
    "common_fpr = np.linspace(0, 1, 100)\n",
    "common_fpr_perm = np.linspace(0, 1, 100)\n",
    "\n",
    "interp_tpr = []\n",
    "interp_tpr_perm = []\n",
    "\n",
    "# Interpolate TPR values for each fold\n",
    "for i in range(len(val_fpr)):\n",
    "    interp_tpr.append(np.interp(common_fpr, val_fpr[i], val_tpr[i]))\n",
    "    interp_tpr_perm.append(np.interp(common_fpr_perm, fpr_perm[i], tpr_perm[i]))\n",
    "\n",
    "# Calculate the mean and standard deviation of the interpolated TPR values\n",
    "mean_tpr = np.mean(interp_tpr, axis=0)\n",
    "std_tpr = np.std(interp_tpr, axis=0)\n",
    "mean_tpr_perm = np.mean(interp_tpr_perm, axis=0)\n",
    "std_tpr_perm = np.std(interp_tpr_perm, axis=0)\n",
    "\n",
    "# Create the plot\n",
    "fig = plt.figure(figsize =(15, 10))\n",
    "    \n",
    "plt.plot(common_fpr, mean_tpr, color='#069AF3', label='Validation Mean ROC (AUC = %0.2f \\u00B1 %0.2f)' % (mean_auc, 2*std_auc), linewidth = 4, dashes=[8, 4, 2, 4, 2, 4])\n",
    "plt.fill_between(common_fpr, (mean_tpr - 2*std_tpr), (mean_tpr + 2*std_tpr), color='#069AF3', alpha=0.1)\n",
    "\n",
    "plt.plot(common_fpr_perm, mean_tpr_perm, color='tomato', label='Permuted Mean ROC (AUC = %0.2f \\u00B1 %0.2f)' % (mean_auc_perm, 2*std_auc_perm), linewidth = 4, linestyle='--')\n",
    "plt.fill_between(common_fpr_perm, (mean_tpr_perm - 2*std_tpr_perm), (mean_tpr_perm + 2*std_tpr_perm), color='tomato', alpha=0.1)\n",
    "\n",
    "# Customize the plot\n",
    "plt.plot([0, 1], [0, 1], linestyle=':', color='gray', linewidth=4, label='Random Classifier')\n",
    "plt.xlim([-0.05, 1.05])\n",
    "plt.ylim([-0.05, 1.05])\n",
    "#plt.title('Mean ROC Curve')\n",
    "#plt.legend(loc='lower right')\n",
    "\n",
    "\n",
    "plt.plot([0, 0, 1], [0, 1, 1], linestyle=(5, (10, 3)), color='green', linewidth = 4, label='Perfect Classifier')\n",
    "plt.xticks(fontsize=20)\n",
    "plt.yticks(fontsize=20)\n",
    "\n",
    "plt.title('Nested Cross Validation AUC Mixed', fontweight='bold', fontsize=28)\n",
    "plt.xlabel('False positive rate', fontweight='bold', fontsize=24)\n",
    "plt.ylabel('True positive rate', fontweight='bold', fontsize=24)\n",
    "plt.legend(loc=\"lower right\", prop={'size': 16, 'weight':'bold'}, handlelength=5)\n",
    "plt.gca().spines['right'].set_visible(False)\n",
    "plt.gca().spines['top'].set_visible(False)\n",
    "plt.show()"
   ]
  },
  {
   "cell_type": "code",
   "execution_count": 5,
   "id": "d4a5fcc5-17e8-4a82-94ac-7b72dc525238",
   "metadata": {},
   "outputs": [],
   "source": [
    "# fig.savefig('nested_val_example.pdf')\n"
   ]
  },
  {
   "cell_type": "code",
   "execution_count": null,
   "id": "0b1c333b-9cab-412c-99ca-2291b687d8fc",
   "metadata": {},
   "outputs": [],
   "source": []
  }
 ],
 "metadata": {
  "kernelspec": {
   "display_name": "Python 3",
   "language": "python",
   "name": "python3"
  },
  "language_info": {
   "codemirror_mode": {
    "name": "ipython",
    "version": 3
   },
   "file_extension": ".py",
   "mimetype": "text/x-python",
   "name": "python",
   "nbconvert_exporter": "python",
   "pygments_lexer": "ipython3",
   "version": "3.8.8"
  }
 },
 "nbformat": 4,
 "nbformat_minor": 5
}
